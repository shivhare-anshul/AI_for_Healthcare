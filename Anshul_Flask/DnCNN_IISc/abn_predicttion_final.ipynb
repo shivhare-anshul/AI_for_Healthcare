{
 "cells": [
  {
   "cell_type": "code",
   "execution_count": 1,
   "metadata": {},
   "outputs": [],
   "source": [
    "import numpy as np\n",
    "import tensorflow as tf\n",
    "import cv2\n",
    "import matplotlib.pyplot as plt\n",
    "import matplotlib.cm as cm\n",
    "import skimage\n",
    "import os\n",
    "import sys\n",
    "import csv\n",
    "from sklearn.metrics import mean_squared_error\n",
    "from skimage import data, img_as_float\n",
    "from skimage.restoration import denoise_nl_means\n",
    "# from skimage.measure import compare_ssim\n",
    "from sklearn.metrics import mean_squared_error\n",
    "from scipy.stats import pearsonr\n",
    "# from skimage.measure import compare_ssim\n",
    "# from skimage.measure import structural_similarity as compare_ssim\n",
    "from skimage.metrics import peak_signal_noise_ratio as psnr\n",
    "from sklearn.metrics import mean_squared_error as compare_mse\n",
    "from scipy import ndimage, misc\n",
    "from sklearn.utils import shuffle\n",
    "import math\n",
    "from tensorflow.keras.models import model_from_json, load_model\n",
    "from tensorflow.keras.layers import *\n",
    "from tensorflow.keras.models import Model\n",
    "import re\n",
    "from tensorflow.keras import regularizers\n",
    "#from keras.utils import plot_model\n",
    "#from keras.utils.vis_utils import plot_model\n",
    "from tensorflow.keras import backend as K\n",
    "from tensorflow.keras.callbacks import TensorBoard, ReduceLROnPlateau, CSVLogger, EarlyStopping, ModelCheckpoint\n",
    "# from tensorflow.keras.layers.core import Lambda\n",
    "from tensorflow.keras.preprocessing.image import ImageDataGenerator\n",
    "from tensorflow.keras.losses import mean_squared_error\n",
    "import scipy.io as sio\n",
    "import pickle\n",
    "from random import randint\n",
    "\n",
    "from PIL import Image\n",
    "\n",
    "from IPython.display import clear_output"
   ]
  },
  {
   "cell_type": "code",
   "execution_count": 2,
   "metadata": {},
   "outputs": [
    {
     "name": "stdout",
     "output_type": "stream",
     "text": [
      "2.8.0\n"
     ]
    }
   ],
   "source": [
    "print(tf.__version__)"
   ]
  },
  {
   "cell_type": "code",
   "execution_count": 3,
   "metadata": {},
   "outputs": [],
   "source": [
    "#Convert rgb to gray\n",
    "def rgb2gray(rgb):\n",
    "\n",
    "    r, g, b = rgb[:,:,:,0], rgb[:,:,:,1], rgb[:,:,:,2]\n",
    "    gray = 0.2989 * r + 0.5870 * g + 0.1140 * b\n",
    "\n",
    "    return gray\n",
    "\n",
    "#Read images from folder of given path\n",
    "def read_images_from_folder(folder_path):\n",
    "    images = []\n",
    "    for filename in os.listdir(folder_path):\n",
    "        img = cv2.imread(os.path.join(folder_path,filename),0)\n",
    "        if img is not None:\n",
    "            images.append(img)\n",
    "    return np.array(images)\n",
    "\n",
    "def resize_images(images,size):\n",
    "    resized_images = []\n",
    "    \n",
    "    for img in images:\n",
    "        im2 = cv2.resize(img,size,interpolation = cv2.INTER_CUBIC)\n",
    "        resized_images.append(im2)\n",
    "    \n",
    "    resized_images = np.array(resized_images)\n",
    "    resized_images = np.reshape(resized_images,(resized_images.shape[0],resized_images.shape[1],resized_images.shape[2],1))\n",
    "    \n",
    "    return resized_images\n",
    "\n",
    "#Shuffle the noisy image ground truth pair to randomize the noise distribution in the dataset\n",
    "def expand_pair(noisy_set):   \n",
    "    ground_truth=[]\n",
    "    noisy_images = []\n",
    "    for i in range(noisy_set.shape[0]):\n",
    "        ground_truth.append(noisy_set[i][0].reshape((noisy_set[i][0].shape[0],noisy_set[i][0].shape[1],1)))\n",
    "        #print( str(noisy_set[i][0].shape[0]) +\" \"+ str(noisy_set[i][0].shape[1]))\n",
    "        noisy_images.append(noisy_set[i][1].reshape((noisy_set[i][1].shape[0],noisy_set[i][1].shape[1],1)))\n",
    "    return ground_truth, noisy_images"
   ]
  },
  {
   "cell_type": "code",
   "execution_count": 4,
   "metadata": {},
   "outputs": [],
   "source": [
    "#Function to get saved keras model\n",
    "def read_model_json(jsonfilePath,h5filePath):\n",
    "    try:\n",
    "        json_file = open(jsonfilePath, 'r')\n",
    "        print(json_file)\n",
    "        loaded_model_json = json_file.read()\n",
    "        json_file.close()\n",
    "        print(\"hello\")\n",
    "        loaded_model = model_from_json(loaded_model_json)\n",
    "         \n",
    "        # load weights into new model\n",
    "        loaded_model.load_weights(h5filePath)\n",
    "\n",
    "        return loaded_model\n",
    "    except:\n",
    "        return None\n",
    "\n",
    "    \"\"\"Function to mimic the 'fspecial' gaussian MATLAB function\n",
    "    \"\"\"\n",
    "    x_data, y_data = np.mgrid[-size//2 + 1:size//2 + 1, -size//2 + 1:size//2 + 1]\n",
    "\n",
    "    x_data = np.expand_dims(x_data, axis=-1)\n",
    "    x_data = np.expand_dims(x_data, axis=-1)\n",
    "\n",
    "    y_data = np.expand_dims(y_data, axis=-1)\n",
    "    y_data = np.expand_dims(y_data, axis=-1)\n",
    "\n",
    "    x = tf.constant(x_data, dtype=tf.float32)\n",
    "    y = tf.constant(y_data, dtype=tf.float32)\n",
    "\n",
    "    g = tf.exp(-((x**2 + y**2)/(2.0*sigma**2)))\n",
    "    return g / tf.reduce_sum(g)# def _tf_fspecial_gauss(size, sigma):\n",
    "\n",
    "\n",
    "def tf_ssim(img1, img2, cs_map=False, mean_metric=True, size=11, sigma=1.5):\n",
    "    window = _tf_fspecial_gauss(size, sigma) # window shape [size, size]\n",
    "    K1 = 0.01\n",
    "    K2 = 0.03\n",
    "    L = 1  # depth of image (255 in case the image has a differnt scale)\n",
    "    C1 = (K1*L)**2\n",
    "    C2 = (K2*L)**2\n",
    "    mu1 = tf.nn.conv2d(img1, window, strides=[1,1,1,1], padding='VALID')\n",
    "    mu2 = tf.nn.conv2d(img2, window, strides=[1,1,1,1],padding='VALID')\n",
    "    mu1_sq = mu1*mu1\n",
    "    mu2_sq = mu2*mu2\n",
    "    mu1_mu2 = mu1*mu2\n",
    "    sigma1_sq = tf.nn.conv2d(img1*img1, window, strides=[1,1,1,1],padding='VALID') - mu1_sq\n",
    "    sigma2_sq = tf.nn.conv2d(img2*img2, window, strides=[1,1,1,1],padding='VALID') - mu2_sq\n",
    "    sigma12 = tf.nn.conv2d(img1*img2, window, strides=[1,1,1,1],padding='VALID') - mu1_mu2\n",
    "    if cs_map:\n",
    "        value = (((2*mu1_mu2 + C1)*(2*sigma12 + C2))/((mu1_sq + mu2_sq + C1)*\n",
    "                    (sigma1_sq + sigma2_sq + C2)),\n",
    "                (2.0*sigma12 + C2)/(sigma1_sq + sigma2_sq + C2))\n",
    "    else:\n",
    "        value = ((2*mu1_mu2 + C1)*(2*sigma12 + C2))/((mu1_sq + mu2_sq + C1)*\n",
    "                    (sigma1_sq + sigma2_sq + C2))\n",
    "\n",
    "    if mean_metric:\n",
    "        value = tf.reduce_mean(value)\n",
    "    return value\n",
    "\n",
    "def tf_ms_ssim(img1, img2, mean_metric=True, level=5):\n",
    "    weight = tf.constant([0.0448, 0.2856, 0.3001, 0.2363, 0.1333], dtype=tf.float32)\n",
    "    mssim = []\n",
    "    mcs = []\n",
    "    for l in range(level):\n",
    "        ssim_map, cs_map = tf_ssim(img1, img2, cs_map=True, mean_metric=False)\n",
    "        mssim.append(tf.reduce_mean(ssim_map))\n",
    "        mcs.append(tf.reduce_mean(cs_map))\n",
    "        filtered_im1 = tf.nn.avg_pool(img1, [1,2,2,1], [1,2,2,1], padding='SAME')\n",
    "        filtered_im2 = tf.nn.avg_pool(img2, [1,2,2,1], [1,2,2,1], padding='SAME')\n",
    "        img1 = filtered_im1\n",
    "        img2 = filtered_im2\n",
    "\n",
    "    # list to tensor of dim D+1\n",
    "    mssim = tf.stack(mssim, axis=0)\n",
    "    mcs = tf.stack(mcs, axis=0)\n",
    "\n",
    "    value = (tf.reduce_prod(mcs[0:level-1]**weight[0:level-1])*\n",
    "                            (mssim[level-1]**weight[level-1]))\n",
    "\n",
    "    if mean_metric:\n",
    "        value = tf.reduce_mean(value)\n",
    "    return value\n",
    "\n",
    "def dssim_objective(y_pred,y_true):\n",
    "    ssim = tf_ssim(y_pred,y_true)\n",
    "    return (1 - ssim)/2."
   ]
  },
  {
   "cell_type": "code",
   "execution_count": 5,
   "metadata": {},
   "outputs": [],
   "source": [
    "def get_gated_connections(gatePercentageFactor,inputLayer):\n",
    "    fractionG = Lambda(lambda x, factor : factor * x, arguments = {'factor': gatePercentageFactor})(inputLayer)\n",
    "    complement = Lambda(lambda x: x[0] - x[1])([inputLayer,fractionG])\n",
    "    \n",
    "    return fractionG,complement\n",
    "\n",
    "#x is conv layer\n",
    "#y is de-conv layer\n",
    "#gf is gating factor\n",
    "#fg is fractional input from gate\n",
    "#c is complement ie remaining fraction from the gate\n",
    "#jt joining tensor of convolution layer and previous de-conv layer \n",
    "\n",
    "def get_cnn_dsc_architecture(model_path=None):\n",
    "    \n",
    "    if(model_path is None):\n",
    "        sym_autoencoder = None\n",
    "    else:\n",
    "        sym_autoencoder = read_model_json(model_path[0],model_path[1])\n",
    "    conv_filter = (3 , 3)\n",
    "    if(sym_autoencoder is None):\n",
    "        input_img = Input(shape=(None,None,1), name = \"Image_input\")  # adapt this if using `channels_first` image data format\n",
    "        x1 = Conv2D(64, conv_filter, activation='relu', padding='same')(input_img)\n",
    "        fg1,c1 = get_gated_connections(0.1,x1)\n",
    "        x = MaxPooling2D((2, 2), padding='same')(fg1)\n",
    "        x2 = Conv2D(64, conv_filter, activation='relu', padding='same')(x) \n",
    "        fg2,c2 = get_gated_connections(0.2,x2)\n",
    "\n",
    "        x = MaxPooling2D((2, 2), padding='same')(fg2)\n",
    "        x3 = Conv2D(128, conv_filter, activation='relu', padding='same')(x) \n",
    "        fg3,c3 = get_gated_connections(0.3,x3)\n",
    "\n",
    "        x = MaxPooling2D((2, 2), padding='same')(x3)\n",
    "        x4 = Conv2D(256, conv_filter, activation='relu', padding='same')(x) \n",
    "        fg4,c4 = get_gated_connections(0.4,x4)\n",
    "\n",
    "        x = MaxPooling2D((2, 2), padding='same')(x4)\n",
    "        x5 = Conv2D(512, conv_filter, activation='relu', padding='same')(x) \n",
    "\n",
    "        x = UpSampling2D((2, 2))(x5)\n",
    "        y1 = Conv2DTranspose(256, conv_filter, activation='relu', padding='same')(x) \n",
    "        jt4 = Add()([y1,c4])\n",
    "        x = UpSampling2D((2, 2))(jt4)\n",
    "\n",
    "        y2 = Conv2DTranspose(128, conv_filter, activation='relu', padding='same')(x) \n",
    "        jt3 = Add()([y2,c3])\n",
    "        x = UpSampling2D((2, 2))(jt3)\n",
    "\n",
    "        y3 = Conv2DTranspose(64, conv_filter, activation='relu', padding='same')(x) \n",
    "        jt2 = Add()([y3,c2])\n",
    "        x = UpSampling2D((2, 2))(jt2)\n",
    "\n",
    "        jt1 = Add()([x,c1])\n",
    "        y4 = Conv2DTranspose(64, conv_filter, activation='relu', padding='same')(jt1)\n",
    "        y5 = Conv2DTranspose(1, conv_filter, activation='relu', padding='same')(y4) \n",
    "\n",
    "        layers = y5\n",
    "\n",
    "        sym_autoencoder = Model(input_img,layers)\n",
    "        sym_autoencoder.compile(optimizer='adam', loss = dssim_objective, metrics = ['accuracy',dssim_objective])\n",
    "        print(\"Model created\")\n",
    "    else:\n",
    "        print(\"Saved model loaded\")\n",
    "    #print(sym_autoencoder.summary())\n",
    "    return sym_autoencoder"
   ]
  },
  {
   "cell_type": "code",
   "execution_count": 6,
   "metadata": {},
   "outputs": [
    {
     "name": "stdout",
     "output_type": "stream",
     "text": [
      "Model created\n"
     ]
    }
   ],
   "source": [
    "sym_autoencoder = get_cnn_dsc_architecture()"
   ]
  },
  {
   "cell_type": "code",
   "execution_count": 20,
   "metadata": {},
   "outputs": [
    {
     "name": "stdout",
     "output_type": "stream",
     "text": [
      "Model created\n",
      "(1024, 512)\n"
     ]
    }
   ],
   "source": [
    "# sourceLocation = './datasets/segmentation/Resized_train/*'\n",
    "#sourceLocation = './experiments/diagrams/1/*'\n",
    "targetLocation = r'D:/'\n",
    "# targetLocation = './datasets/segmentation/Train_images_original_denoised/'\n",
    "#targetLocation = './experiments/diagrams/1/'\n",
    "\n",
    "sym_autoencoder = get_cnn_dsc_architecture()\n",
    "#sym_autoencoder.load_weights(\"./models/patchwise_fisk.hdf5\")\n",
    "sym_autoencoder.load_weights(\"patchwise_synthetic.hdf5\")\n",
    "# sym_autoencoder.load_weights(\"./models/patchwise_gamma_beta_gen_epoch_200.hdf5\")\n",
    "#sym_autoencoder.load_weights(\"./models/patchwise_synthetic.hdf5\")\n",
    "#sym_autoencoder.load_weights(\"./models/patchwise_logistic.hdf5\")\n",
    "\n",
    "\n",
    "#for i, filename in enumerate(glob(sourceLocation)):\n",
    "    #params = filename.split('/')[-1].split('.')[0]\n",
    "    \n",
    "    #print(filename)\n",
    "#filename=r\"F:\\anoop b n\\OCT\\OCT\\OCT_denoising\\patchwise\\paper\\abnbeta1.png\"\n",
    "#filename=r\"F:\\anoop b n\\OCT\\OCT\\OCT_denoising\\patchwise\\datasets\\gt+im\\26_2\\IM_rename\\001.tif\"\n",
    "filename=r\"D:\\Main_project\\Project\\Today\\Bscan_3.jpg\"\n",
    "#filename=r\"F:\\anoop b n\\OCT\\OCT\\OCT_denoising\\patchwise\\abn_1\\abn_beta\\abnbeta12.png\"\n",
    "x_test_noisy_r1 = cv2.imread(filename,0).astype(np.float32) / 255.0\n",
    "print(x_test_noisy_r1.shape)\n",
    "x_test_noisy_r = cv2.imread(filename,0).astype(np.float32) / 255.0\n",
    "print(x_test_noisy_r.shape)\n",
    "# dims = np.shape(x_test_noisy_r)\n",
    "# marginalDims = (16-(dims[0]%16), 16-(dims[1]%16))\n",
    "    \n",
    "# x_test_noisy_r = np.pad(x_test_noisy_r , [(0,marginalDims[0]), (0,marginalDims[1])], mode='constant')   \n",
    "\n",
    "# x_test_noisy_r = np.reshape(x_test_noisy_r,(x_test_noisy_r.shape[0],x_test_noisy_r.shape[1],1))\n",
    "    \n",
    "x_out_r = sym_autoencoder.predict_on_batch(np.array([x_test_noisy_r]))\n",
    "x_out_r= x_out_r*255\n",
    "\n",
    "#     cv2.imwrite(targetLocation + 'denoise_' + str(params) + '.png',x_out_r[0][:dims[0]][:dims[1]]*255.)\n",
    "#cv2.imwrite(targetLocation + 'denoiseDukew_' + str(params) + '.png',x_out_r[0,:dims[0],:dims[1]]*255.)\n"
   ]
  },
  {
   "cell_type": "code",
   "execution_count": 21,
   "metadata": {},
   "outputs": [
    {
     "name": "stdout",
     "output_type": "stream",
     "text": [
      "224.9701\n"
     ]
    }
   ],
   "source": [
    "print((x_out_r*255).max())"
   ]
  },
  {
   "cell_type": "code",
   "execution_count": 22,
   "metadata": {},
   "outputs": [
    {
     "data": {
      "text/plain": [
       "(1, 1024, 512, 1)"
      ]
     },
     "execution_count": 22,
     "metadata": {},
     "output_type": "execute_result"
    }
   ],
   "source": [
    "x_out_r.shape"
   ]
  },
  {
   "cell_type": "code",
   "execution_count": 23,
   "metadata": {},
   "outputs": [],
   "source": [
    "#x_out_r1=np.reshape(x_out_r,[1040,528])\n",
    "x_out_r1=np.reshape(x_out_r,[1024, 512])\n",
    "# x_out_r1=x_out_r1[0:450,0:900]"
   ]
  },
  {
   "cell_type": "code",
   "execution_count": 24,
   "metadata": {},
   "outputs": [
    {
     "data": {
      "text/plain": [
       "(-0.5, 511.5, 1023.5, -0.5)"
      ]
     },
     "execution_count": 24,
     "metadata": {},
     "output_type": "execute_result"
    },
    {
     "data": {
      "image/png": "[encoded data removed]",
      "text/plain": [
       "<Figure size 432x288 with 1 Axes>"
      ]
     },
     "metadata": {
      "needs_background": "light"
     },
     "output_type": "display_data"
    }
   ],
   "source": [
    "from skimage import io\n",
    "import matplotlib.pyplot as plt\n",
    "# read the image stack\n",
    "#img = io.imread(path)\n",
    "# show the image\n",
    "plt.imshow(x_out_r1*255,cmap='gray')\n",
    "plt.axis('off')\n",
    "# save the image\n",
    "#plt.savefig('output.tif', transparent=True, dpi=300, bbox_inches=\"tight\", pad_inches=0.0)"
   ]
  },
  {
   "cell_type": "code",
   "execution_count": null,
   "metadata": {},
   "outputs": [],
   "source": [
    "cv2.imwrite(targetLocation+\"/\"+ \"image.png\", x_out_r1*255)    "
   ]
  },
  {
   "cell_type": "code",
   "execution_count": null,
   "metadata": {},
   "outputs": [],
   "source": []
  }
 ],
 "metadata": {
  "kernelspec": {
   "display_name": "Python 3 (ipykernel)",
   "language": "python",
   "name": "python3"
  },
  "language_info": {
   "codemirror_mode": {
    "name": "ipython",
    "version": 3
   },
   "file_extension": ".py",
   "mimetype": "text/x-python",
   "name": "python",
   "nbconvert_exporter": "python",
   "pygments_lexer": "ipython3",
   "version": "3.8.12"
  }
 },
 "nbformat": 4,
 "nbformat_minor": 4
}
